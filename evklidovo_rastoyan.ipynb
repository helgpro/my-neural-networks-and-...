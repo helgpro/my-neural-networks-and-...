{
 "cells": [
  {
   "cell_type": "code",
   "execution_count": 20,
   "metadata": {},
   "outputs": [
    {
     "data": {
      "text/plain": [
       "1.7320508075688772"
      ]
     },
     "execution_count": 20,
     "metadata": {},
     "output_type": "execute_result"
    }
   ],
   "source": [
    "import numpy as np\n",
    "import math\n",
    "\n",
    "(xa,ya,za) = (2,4,6)\n",
    "(xb,yb,zb)=(1,5,7)\n",
    "dist = math.sqrt((xa-xb)^2 + (ya-yb)^2 + (za-zb)^2)\n",
    "a = np.array([2,4,6])\n",
    "b = np.array([1,5,7])\n",
    "\n",
    "dist2 = np.linalg.norm(a-b)\n",
    "dist2"
   ]
  }
 ],
 "metadata": {
  "kernelspec": {
   "display_name": "Python 3",
   "language": "python",
   "name": "python3"
  },
  "language_info": {
   "codemirror_mode": {
    "name": "ipython",
    "version": 3
   },
   "file_extension": ".py",
   "mimetype": "text/x-python",
   "name": "python",
   "nbconvert_exporter": "python",
   "pygments_lexer": "ipython3",
   "version": "3.7.2"
  }
 },
 "nbformat": 4,
 "nbformat_minor": 2
}
