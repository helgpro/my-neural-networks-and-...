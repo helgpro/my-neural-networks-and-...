{
 "cells": [
  {
   "cell_type": "code",
   "execution_count": 38,
   "metadata": {},
   "outputs": [
    {
     "data": {
      "text/plain": [
       "Fraction(7, 432)"
      ]
     },
     "execution_count": 38,
     "metadata": {},
     "output_type": "execute_result"
    }
   ],
   "source": [
    "import random\n",
    "import statistics\n",
    "from fractions import Fraction as F\n",
    "\n",
    "data_points = [ random.randint(1, 100) for x in range(1,1001) ]\n",
    "#statistics.mode(data_points)\n",
    "#statistics.median(data_points)\n",
    "\n",
    "data = [1, 2, 3, 4, 5, 6, 7, 8, 9]\n",
    " \n",
    "statistics.pvariance(data)     # returns 6.666666666666667\n",
    "statistics.pstdev(data)        # returns 2.581988897471611\n",
    "statistics.variance(data)      # returns 7.5\n",
    "statistics.stdev(data)         # returns 2.7386127875258306\n",
    " \n",
    "more_data = [3, 4, 5, 5, 5, 5, 5, 6, 6]\n",
    " \n",
    "statistics.pvariance(more_data)   # returns 0.7654320987654322\n",
    "statistics.pstdev(more_data)      # returns 0.8748897637790901\n",
    " \n",
    "some_fractions = [F(5, 6), F(2, 3), F(11, 12)]\n",
    "statistics.variance(some_fractions)"
   ]
  },
  {
   "cell_type": "code",
   "execution_count": 27,
   "metadata": {},
   "outputs": [
    {
     "data": {
      "text/html": [
       "<div>\n",
       "<style scoped>\n",
       "    .dataframe tbody tr th:only-of-type {\n",
       "        vertical-align: middle;\n",
       "    }\n",
       "\n",
       "    .dataframe tbody tr th {\n",
       "        vertical-align: top;\n",
       "    }\n",
       "\n",
       "    .dataframe thead th {\n",
       "        text-align: right;\n",
       "    }\n",
       "</style>\n",
       "<table border=\"1\" class=\"dataframe\">\n",
       "  <thead>\n",
       "    <tr style=\"text-align: right;\">\n",
       "      <th></th>\n",
       "      <th>LONG</th>\n",
       "      <th>LAT</th>\n",
       "      <th>ALTI</th>\n",
       "      <th>X</th>\n",
       "      <th>Y</th>\n",
       "      <th>Z</th>\n",
       "    </tr>\n",
       "  </thead>\n",
       "  <tbody>\n",
       "    <tr>\n",
       "      <th>LONG</th>\n",
       "      <td>1.000000</td>\n",
       "      <td>-0.989263</td>\n",
       "      <td>-0.998225</td>\n",
       "      <td>-1.000000</td>\n",
       "      <td>-0.998146</td>\n",
       "      <td>0.993629</td>\n",
       "    </tr>\n",
       "    <tr>\n",
       "      <th>LAT</th>\n",
       "      <td>-0.989263</td>\n",
       "      <td>1.000000</td>\n",
       "      <td>0.978811</td>\n",
       "      <td>0.989300</td>\n",
       "      <td>0.978544</td>\n",
       "      <td>-0.966932</td>\n",
       "    </tr>\n",
       "    <tr>\n",
       "      <th>ALTI</th>\n",
       "      <td>-0.998225</td>\n",
       "      <td>0.978811</td>\n",
       "      <td>1.000000</td>\n",
       "      <td>0.998210</td>\n",
       "      <td>0.999999</td>\n",
       "      <td>-0.998453</td>\n",
       "    </tr>\n",
       "    <tr>\n",
       "      <th>X</th>\n",
       "      <td>-1.000000</td>\n",
       "      <td>0.989300</td>\n",
       "      <td>0.998210</td>\n",
       "      <td>1.000000</td>\n",
       "      <td>0.998131</td>\n",
       "      <td>-0.993600</td>\n",
       "    </tr>\n",
       "    <tr>\n",
       "      <th>Y</th>\n",
       "      <td>-0.998146</td>\n",
       "      <td>0.978544</td>\n",
       "      <td>0.999999</td>\n",
       "      <td>0.998131</td>\n",
       "      <td>1.000000</td>\n",
       "      <td>-0.998522</td>\n",
       "    </tr>\n",
       "    <tr>\n",
       "      <th>Z</th>\n",
       "      <td>0.993629</td>\n",
       "      <td>-0.966932</td>\n",
       "      <td>-0.998453</td>\n",
       "      <td>-0.993600</td>\n",
       "      <td>-0.998522</td>\n",
       "      <td>1.000000</td>\n",
       "    </tr>\n",
       "  </tbody>\n",
       "</table>\n",
       "</div>"
      ],
      "text/plain": [
       "          LONG       LAT      ALTI         X         Y         Z\n",
       "LONG  1.000000 -0.989263 -0.998225 -1.000000 -0.998146  0.993629\n",
       "LAT  -0.989263  1.000000  0.978811  0.989300  0.978544 -0.966932\n",
       "ALTI -0.998225  0.978811  1.000000  0.998210  0.999999 -0.998453\n",
       "X    -1.000000  0.989300  0.998210  1.000000  0.998131 -0.993600\n",
       "Y    -0.998146  0.978544  0.999999  0.998131  1.000000 -0.998522\n",
       "Z     0.993629 -0.966932 -0.998453 -0.993600 -0.998522  1.000000"
      ]
     },
     "execution_count": 27,
     "metadata": {},
     "output_type": "execute_result"
    }
   ],
   "source": [
    "import pandas as pd \n",
    "pd.set_option('display.max_columns', 100)\n",
    "pd.set_option('display.max_rows', 100)\n",
    "data = pd.read_csv(\"panda.csv\", sep=\";\", index_col ='SITE')\n",
    "#data.columns\n",
    "# Preview the first 5 lines of the loaded data \n",
    "dd =data.drop('DATA',axis = 1)\n",
    "data.head()\n",
    "#print(data.info(77))\n",
    "dd.corr()"
   ]
  },
  {
   "cell_type": "code",
   "execution_count": 132,
   "metadata": {},
   "outputs": [
    {
     "ename": "ValueError",
     "evalue": "could not convert string to float: '1843956,862'",
     "output_type": "error",
     "traceback": [
      "\u001b[1;31m---------------------------------------------------------------------------\u001b[0m",
      "\u001b[1;31mValueError\u001b[0m                                Traceback (most recent call last)",
      "\u001b[1;32m<ipython-input-132-8ba984295356>\u001b[0m in \u001b[0;36m<module>\u001b[1;34m()\u001b[0m\n\u001b[0;32m     21\u001b[0m         \u001b[0mname\u001b[0m \u001b[1;33m=\u001b[0m \u001b[0mx\u001b[0m\u001b[1;33m[\u001b[0m\u001b[1;36m0\u001b[0m\u001b[1;33m]\u001b[0m\u001b[1;33m,\u001b[0m\u001b[1;34m'-'\u001b[0m\u001b[1;33m,\u001b[0m\u001b[0my\u001b[0m\u001b[1;33m[\u001b[0m\u001b[1;36m0\u001b[0m\u001b[1;33m]\u001b[0m\u001b[1;33m\u001b[0m\u001b[0m\n\u001b[0;32m     22\u001b[0m         \u001b[0mx1\u001b[0m \u001b[1;33m=\u001b[0m \u001b[0mx\u001b[0m\u001b[1;33m[\u001b[0m\u001b[1;36m1\u001b[0m\u001b[1;33m]\u001b[0m\u001b[1;33m\u001b[0m\u001b[0m\n\u001b[1;32m---> 23\u001b[1;33m         \u001b[0mfloat\u001b[0m\u001b[1;33m(\u001b[0m\u001b[0mx1\u001b[0m\u001b[1;33m)\u001b[0m\u001b[1;33m\u001b[0m\u001b[0m\n\u001b[0m\u001b[0;32m     24\u001b[0m         \u001b[1;31m#x1 =float(x[1])\u001b[0m\u001b[1;33m\u001b[0m\u001b[1;33m\u001b[0m\u001b[0m\n\u001b[0;32m     25\u001b[0m         \u001b[1;31m#y1 = float(y[1])\u001b[0m\u001b[1;33m\u001b[0m\u001b[1;33m\u001b[0m\u001b[0m\n",
      "\u001b[1;31mValueError\u001b[0m: could not convert string to float: '1843956,862'"
     ]
    }
   ],
   "source": [
    "# Peredelka koda perla Korelacii\n",
    "arr=[] # список для хранения\n",
    "arrb = []\n",
    "with open('vel.csv', 'r', encoding='utf-8') as infile: # Читаем ваил \n",
    "    for line in infile:\n",
    "        #print(line)\n",
    "        lines = line.rstrip() # вырезает в конце строки все символы\n",
    "        (site,x,y,z,long,lat,alt,e,n,ere,ern,h,erh) = lines.split()\n",
    "        #print(site,long,lat,alt)\n",
    "        arr.append([site,long,lat,e,n])\n",
    "        #d = [site,long]\n",
    "        #arr.append(d)\n",
    "        \n",
    "for x in arr:\n",
    "    #print(x[0])\n",
    "    for y in arr:\n",
    "        if x>=y: \n",
    "            #print('=')\n",
    "            continue   # если в массиве шндексы повторяться\n",
    "       # print(x[0],x[1],x[2],y[0],y[1],y[2])\n",
    "        name = x[0],'-',y[0]\n",
    "        x1 = x[1]\n",
    "        float(x1)\n",
    "        #x1 =float(x[1])\n",
    "        #y1 = float(y[1])\n",
    "        \n",
    "        #M = ((x[1]-y[1])**2)+((x[2]-y[2])**2)\n",
    "        #M = ((x1-y1)**2)\n",
    "        #mod = [name,M]\n",
    "        #arrb.append(M)\n",
    "print(arrb)"
   ]
  }
 ],
 "metadata": {
  "kernelspec": {
   "display_name": "Python 3",
   "language": "python",
   "name": "python3"
  },
  "language_info": {
   "codemirror_mode": {
    "name": "ipython",
    "version": 3
   },
   "file_extension": ".py",
   "mimetype": "text/x-python",
   "name": "python",
   "nbconvert_exporter": "python",
   "pygments_lexer": "ipython3",
   "version": "3.7.2"
  }
 },
 "nbformat": 4,
 "nbformat_minor": 2
}
